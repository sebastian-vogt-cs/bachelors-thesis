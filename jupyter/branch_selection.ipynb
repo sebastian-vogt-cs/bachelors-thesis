{
 "cells": [
  {
   "cell_type": "markdown",
   "source": [
    "The goal of this notebook is to select the branches that are interesting to be looked at separately"
   ],
   "metadata": {
    "collapsed": false
   }
  },
  {
   "cell_type": "code",
   "execution_count": 5,
   "metadata": {
    "collapsed": true
   },
   "outputs": [
    {
     "name": "stdout",
     "output_type": "stream",
     "text": [
      "The autoreload extension is already loaded. To reload it, use:\n",
      "  %reload_ext autoreload\n"
     ]
    }
   ],
   "source": [
    "%load_ext autoreload\n",
    "%autoreload 3\n",
    "\n",
    "import modules.data_preparation as data_prep\n",
    "import modules.constants as const\n",
    "import pandas as pd"
   ]
  },
  {
   "cell_type": "code",
   "execution_count": 6,
   "outputs": [],
   "source": [
    "masterdata = pd.read_csv(\"masterdata.csv\", index_col=0)"
   ],
   "metadata": {
    "collapsed": false
   }
  },
  {
   "cell_type": "code",
   "execution_count": 7,
   "outputs": [],
   "source": [
    "rentalcalc_branches = masterdata[masterdata[const.OBJECTIVE].str.contains(\"rentalcalc\")]"
   ],
   "metadata": {
    "collapsed": false
   }
  },
  {
   "cell_type": "code",
   "execution_count": 8,
   "outputs": [
    {
     "data": {
      "text/plain": "        Fitness function              Objective  Success  \\\n846      Branch distance    protect.rentalcalc0     0.35   \n847      Branch distance    protect.rentalcalc1     0.30   \n848      Branch distance   protect.rentalcalc10     0.40   \n849      Branch distance  protect.rentalcalc100     0.50   \n850      Branch distance  protect.rentalcalc101     0.45   \n...                  ...                    ...      ...   \n2595  Code-based fitness   protect.rentalcalc95     1.00   \n2596  Code-based fitness   protect.rentalcalc96     1.00   \n2597  Code-based fitness   protect.rentalcalc97     1.00   \n2598  Code-based fitness   protect.rentalcalc98     1.00   \n2599  Code-based fitness   protect.rentalcalc99     0.05   \n\n      Autocorrelation for k = 1  Information content  Neutrality distance  \\\n846                    0.292442             0.708395                 2.60   \n847                    0.319453             0.658174                29.10   \n848                    0.318886             0.678781                21.05   \n849                    0.393341             0.693270                 2.85   \n850                    0.378385             0.689344                 9.05   \n...                         ...                  ...                  ...   \n2595                        NaN             0.000000               751.00   \n2596                   0.177757             0.145236                42.70   \n2597                        NaN             0.000000               751.00   \n2598                   0.045287             0.073826               108.75   \n2599                   0.253891             0.301621                18.90   \n\n      Neutrality volume  \n846              295.80  \n847              260.15  \n848              278.10  \n849              276.45  \n850              277.55  \n...                 ...  \n2595               1.00  \n2596              30.60  \n2597               1.00  \n2598              15.15  \n2599              76.40  \n\n[908 rows x 7 columns]",
      "text/html": "<div>\n<style scoped>\n    .dataframe tbody tr th:only-of-type {\n        vertical-align: middle;\n    }\n\n    .dataframe tbody tr th {\n        vertical-align: top;\n    }\n\n    .dataframe thead th {\n        text-align: right;\n    }\n</style>\n<table border=\"1\" class=\"dataframe\">\n  <thead>\n    <tr style=\"text-align: right;\">\n      <th></th>\n      <th>Fitness function</th>\n      <th>Objective</th>\n      <th>Success</th>\n      <th>Autocorrelation for k = 1</th>\n      <th>Information content</th>\n      <th>Neutrality distance</th>\n      <th>Neutrality volume</th>\n    </tr>\n  </thead>\n  <tbody>\n    <tr>\n      <th>846</th>\n      <td>Branch distance</td>\n      <td>protect.rentalcalc0</td>\n      <td>0.35</td>\n      <td>0.292442</td>\n      <td>0.708395</td>\n      <td>2.60</td>\n      <td>295.80</td>\n    </tr>\n    <tr>\n      <th>847</th>\n      <td>Branch distance</td>\n      <td>protect.rentalcalc1</td>\n      <td>0.30</td>\n      <td>0.319453</td>\n      <td>0.658174</td>\n      <td>29.10</td>\n      <td>260.15</td>\n    </tr>\n    <tr>\n      <th>848</th>\n      <td>Branch distance</td>\n      <td>protect.rentalcalc10</td>\n      <td>0.40</td>\n      <td>0.318886</td>\n      <td>0.678781</td>\n      <td>21.05</td>\n      <td>278.10</td>\n    </tr>\n    <tr>\n      <th>849</th>\n      <td>Branch distance</td>\n      <td>protect.rentalcalc100</td>\n      <td>0.50</td>\n      <td>0.393341</td>\n      <td>0.693270</td>\n      <td>2.85</td>\n      <td>276.45</td>\n    </tr>\n    <tr>\n      <th>850</th>\n      <td>Branch distance</td>\n      <td>protect.rentalcalc101</td>\n      <td>0.45</td>\n      <td>0.378385</td>\n      <td>0.689344</td>\n      <td>9.05</td>\n      <td>277.55</td>\n    </tr>\n    <tr>\n      <th>...</th>\n      <td>...</td>\n      <td>...</td>\n      <td>...</td>\n      <td>...</td>\n      <td>...</td>\n      <td>...</td>\n      <td>...</td>\n    </tr>\n    <tr>\n      <th>2595</th>\n      <td>Code-based fitness</td>\n      <td>protect.rentalcalc95</td>\n      <td>1.00</td>\n      <td>NaN</td>\n      <td>0.000000</td>\n      <td>751.00</td>\n      <td>1.00</td>\n    </tr>\n    <tr>\n      <th>2596</th>\n      <td>Code-based fitness</td>\n      <td>protect.rentalcalc96</td>\n      <td>1.00</td>\n      <td>0.177757</td>\n      <td>0.145236</td>\n      <td>42.70</td>\n      <td>30.60</td>\n    </tr>\n    <tr>\n      <th>2597</th>\n      <td>Code-based fitness</td>\n      <td>protect.rentalcalc97</td>\n      <td>1.00</td>\n      <td>NaN</td>\n      <td>0.000000</td>\n      <td>751.00</td>\n      <td>1.00</td>\n    </tr>\n    <tr>\n      <th>2598</th>\n      <td>Code-based fitness</td>\n      <td>protect.rentalcalc98</td>\n      <td>1.00</td>\n      <td>0.045287</td>\n      <td>0.073826</td>\n      <td>108.75</td>\n      <td>15.15</td>\n    </tr>\n    <tr>\n      <th>2599</th>\n      <td>Code-based fitness</td>\n      <td>protect.rentalcalc99</td>\n      <td>0.05</td>\n      <td>0.253891</td>\n      <td>0.301621</td>\n      <td>18.90</td>\n      <td>76.40</td>\n    </tr>\n  </tbody>\n</table>\n<p>908 rows × 7 columns</p>\n</div>"
     },
     "execution_count": 8,
     "metadata": {},
     "output_type": "execute_result"
    }
   ],
   "source": [
    "rentalcalc_branches"
   ],
   "metadata": {
    "collapsed": false
   }
  },
  {
   "cell_type": "code",
   "execution_count": 9,
   "outputs": [
    {
     "data": {
      "text/plain": "                 Objective                                               Name\n0      protect.rentalcalc0  Lprotect/rentalcalc/PropertiesListActivity;->o...\n1      protect.rentalcalc1  Lprotect/rentalcalc/PropertyWorksheetActivity;...\n2      protect.rentalcalc2  Lprotect/rentalcalc/PropertyViewActivity;->onC...\n3      protect.rentalcalc3  Lprotect/rentalcalc/CalcUtil;->calculateForYea...\n4      protect.rentalcalc4  Lprotect/rentalcalc/PropertyWorksheetActivity;...\n..                     ...                                                ...\n449  protect.rentalcalc449  Lprotect/rentalcalc/CalcUtil;->calculateForYea...\n450  protect.rentalcalc450  Lprotect/rentalcalc/PropertySummaryActivity;->...\n451  protect.rentalcalc451  Lprotect/rentalcalc/PropertySummaryActivity;->...\n452  protect.rentalcalc452  Lprotect/rentalcalc/PropertyProjectionsActivit...\n453  protect.rentalcalc453       Lprotect/rentalcalc/Property;-><init>()V->13\n\n[454 rows x 2 columns]",
      "text/html": "<div>\n<style scoped>\n    .dataframe tbody tr th:only-of-type {\n        vertical-align: middle;\n    }\n\n    .dataframe tbody tr th {\n        vertical-align: top;\n    }\n\n    .dataframe thead th {\n        text-align: right;\n    }\n</style>\n<table border=\"1\" class=\"dataframe\">\n  <thead>\n    <tr style=\"text-align: right;\">\n      <th></th>\n      <th>Objective</th>\n      <th>Name</th>\n    </tr>\n  </thead>\n  <tbody>\n    <tr>\n      <th>0</th>\n      <td>protect.rentalcalc0</td>\n      <td>Lprotect/rentalcalc/PropertiesListActivity;-&gt;o...</td>\n    </tr>\n    <tr>\n      <th>1</th>\n      <td>protect.rentalcalc1</td>\n      <td>Lprotect/rentalcalc/PropertyWorksheetActivity;...</td>\n    </tr>\n    <tr>\n      <th>2</th>\n      <td>protect.rentalcalc2</td>\n      <td>Lprotect/rentalcalc/PropertyViewActivity;-&gt;onC...</td>\n    </tr>\n    <tr>\n      <th>3</th>\n      <td>protect.rentalcalc3</td>\n      <td>Lprotect/rentalcalc/CalcUtil;-&gt;calculateForYea...</td>\n    </tr>\n    <tr>\n      <th>4</th>\n      <td>protect.rentalcalc4</td>\n      <td>Lprotect/rentalcalc/PropertyWorksheetActivity;...</td>\n    </tr>\n    <tr>\n      <th>...</th>\n      <td>...</td>\n      <td>...</td>\n    </tr>\n    <tr>\n      <th>449</th>\n      <td>protect.rentalcalc449</td>\n      <td>Lprotect/rentalcalc/CalcUtil;-&gt;calculateForYea...</td>\n    </tr>\n    <tr>\n      <th>450</th>\n      <td>protect.rentalcalc450</td>\n      <td>Lprotect/rentalcalc/PropertySummaryActivity;-&gt;...</td>\n    </tr>\n    <tr>\n      <th>451</th>\n      <td>protect.rentalcalc451</td>\n      <td>Lprotect/rentalcalc/PropertySummaryActivity;-&gt;...</td>\n    </tr>\n    <tr>\n      <th>452</th>\n      <td>protect.rentalcalc452</td>\n      <td>Lprotect/rentalcalc/PropertyProjectionsActivit...</td>\n    </tr>\n    <tr>\n      <th>453</th>\n      <td>protect.rentalcalc453</td>\n      <td>Lprotect/rentalcalc/Property;-&gt;&lt;init&gt;()V-&gt;13</td>\n    </tr>\n  </tbody>\n</table>\n<p>454 rows × 2 columns</p>\n</div>"
     },
     "execution_count": 9,
     "metadata": {},
     "output_type": "execute_result"
    }
   ],
   "source": [
    "objectives = []\n",
    "lines = []\n",
    "with open(\"rentalcalc/branches.txt\") as f:\n",
    "    i = 0\n",
    "    for line in f:\n",
    "        objectives.append(\"protect.rentalcalc\" + str(i))\n",
    "        lines.append(line.strip())\n",
    "        i += 1\n",
    "\n",
    "branches_names = pd.DataFrame()\n",
    "branches_names[const.OBJECTIVE] = objectives\n",
    "branches_names[\"Name\"] = lines\n",
    "\n",
    "branches_names"
   ],
   "metadata": {
    "collapsed": false
   }
  },
  {
   "cell_type": "code",
   "execution_count": 10,
   "outputs": [],
   "source": [
    "rentalcalc_branches_with_names = pd.merge(rentalcalc_branches, branches_names, on=const.OBJECTIVE)"
   ],
   "metadata": {
    "collapsed": false
   }
  },
  {
   "cell_type": "code",
   "execution_count": 11,
   "outputs": [],
   "source": [
    "successful = rentalcalc_branches_with_names[rentalcalc_branches_with_names[const.SUCCESS] == 1.0]\n",
    "unsuccessful = rentalcalc_branches_with_names[rentalcalc_branches_with_names[const.SUCCESS] == 0.0]"
   ],
   "metadata": {
    "collapsed": false
   }
  },
  {
   "cell_type": "code",
   "execution_count": 12,
   "outputs": [
    {
     "data": {
      "text/plain": "       Fitness function              Objective  Success  \\\n3    Code-based fitness    protect.rentalcalc1      1.0   \n5    Code-based fitness   protect.rentalcalc10      1.0   \n13   Code-based fitness  protect.rentalcalc103      1.0   \n23   Code-based fitness  protect.rentalcalc108      1.0   \n31   Code-based fitness  protect.rentalcalc111      1.0   \n..                  ...                    ...      ...   \n897  Code-based fitness   protect.rentalcalc94      1.0   \n899  Code-based fitness   protect.rentalcalc95      1.0   \n901  Code-based fitness   protect.rentalcalc96      1.0   \n903  Code-based fitness   protect.rentalcalc97      1.0   \n905  Code-based fitness   protect.rentalcalc98      1.0   \n\n     Autocorrelation for k = 1  Information content  Neutrality distance  \\\n3                     0.208740             0.194051                35.90   \n5                     0.126690             0.818205                 2.95   \n13                    0.186247             0.195530                35.90   \n23                    0.177757             0.145236                42.70   \n31                    0.243653             0.731271                 3.10   \n..                         ...                  ...                  ...   \n897                   0.177757             0.145236                42.70   \n899                        NaN             0.000000               751.00   \n901                   0.177757             0.145236                42.70   \n903                        NaN             0.000000               751.00   \n905                   0.045287             0.073826               108.75   \n\n     Neutrality volume                                               Name  \n3                45.90  Lprotect/rentalcalc/PropertyWorksheetActivity;...  \n5               371.85  Lprotect/rentalcalc/PropertyViewActivity;->onC...  \n13               45.50  Lprotect/rentalcalc/PropertyPicturesActivity;-...  \n23               30.60  Lprotect/rentalcalc/PictureViewActivity;->onCr...  \n31              307.30  Lprotect/rentalcalc/PropertyCursorAdapter;->bi...  \n..                 ...                                                ...  \n897              30.60  Lprotect/rentalcalc/PropertyWorksheetActivity;...  \n899               1.00  Lprotect/rentalcalc/PropertySummaryActivity;->...  \n901              30.60  Lprotect/rentalcalc/PropertyPicturesActivity;-...  \n903               1.00  Lprotect/rentalcalc/PropertiesListActivity;->d...  \n905              15.15  Lprotect/rentalcalc/PropertyWorksheetActivity;...  \n\n[207 rows x 8 columns]",
      "text/html": "<div>\n<style scoped>\n    .dataframe tbody tr th:only-of-type {\n        vertical-align: middle;\n    }\n\n    .dataframe tbody tr th {\n        vertical-align: top;\n    }\n\n    .dataframe thead th {\n        text-align: right;\n    }\n</style>\n<table border=\"1\" class=\"dataframe\">\n  <thead>\n    <tr style=\"text-align: right;\">\n      <th></th>\n      <th>Fitness function</th>\n      <th>Objective</th>\n      <th>Success</th>\n      <th>Autocorrelation for k = 1</th>\n      <th>Information content</th>\n      <th>Neutrality distance</th>\n      <th>Neutrality volume</th>\n      <th>Name</th>\n    </tr>\n  </thead>\n  <tbody>\n    <tr>\n      <th>3</th>\n      <td>Code-based fitness</td>\n      <td>protect.rentalcalc1</td>\n      <td>1.0</td>\n      <td>0.208740</td>\n      <td>0.194051</td>\n      <td>35.90</td>\n      <td>45.90</td>\n      <td>Lprotect/rentalcalc/PropertyWorksheetActivity;...</td>\n    </tr>\n    <tr>\n      <th>5</th>\n      <td>Code-based fitness</td>\n      <td>protect.rentalcalc10</td>\n      <td>1.0</td>\n      <td>0.126690</td>\n      <td>0.818205</td>\n      <td>2.95</td>\n      <td>371.85</td>\n      <td>Lprotect/rentalcalc/PropertyViewActivity;-&gt;onC...</td>\n    </tr>\n    <tr>\n      <th>13</th>\n      <td>Code-based fitness</td>\n      <td>protect.rentalcalc103</td>\n      <td>1.0</td>\n      <td>0.186247</td>\n      <td>0.195530</td>\n      <td>35.90</td>\n      <td>45.50</td>\n      <td>Lprotect/rentalcalc/PropertyPicturesActivity;-...</td>\n    </tr>\n    <tr>\n      <th>23</th>\n      <td>Code-based fitness</td>\n      <td>protect.rentalcalc108</td>\n      <td>1.0</td>\n      <td>0.177757</td>\n      <td>0.145236</td>\n      <td>42.70</td>\n      <td>30.60</td>\n      <td>Lprotect/rentalcalc/PictureViewActivity;-&gt;onCr...</td>\n    </tr>\n    <tr>\n      <th>31</th>\n      <td>Code-based fitness</td>\n      <td>protect.rentalcalc111</td>\n      <td>1.0</td>\n      <td>0.243653</td>\n      <td>0.731271</td>\n      <td>3.10</td>\n      <td>307.30</td>\n      <td>Lprotect/rentalcalc/PropertyCursorAdapter;-&gt;bi...</td>\n    </tr>\n    <tr>\n      <th>...</th>\n      <td>...</td>\n      <td>...</td>\n      <td>...</td>\n      <td>...</td>\n      <td>...</td>\n      <td>...</td>\n      <td>...</td>\n      <td>...</td>\n    </tr>\n    <tr>\n      <th>897</th>\n      <td>Code-based fitness</td>\n      <td>protect.rentalcalc94</td>\n      <td>1.0</td>\n      <td>0.177757</td>\n      <td>0.145236</td>\n      <td>42.70</td>\n      <td>30.60</td>\n      <td>Lprotect/rentalcalc/PropertyWorksheetActivity;...</td>\n    </tr>\n    <tr>\n      <th>899</th>\n      <td>Code-based fitness</td>\n      <td>protect.rentalcalc95</td>\n      <td>1.0</td>\n      <td>NaN</td>\n      <td>0.000000</td>\n      <td>751.00</td>\n      <td>1.00</td>\n      <td>Lprotect/rentalcalc/PropertySummaryActivity;-&gt;...</td>\n    </tr>\n    <tr>\n      <th>901</th>\n      <td>Code-based fitness</td>\n      <td>protect.rentalcalc96</td>\n      <td>1.0</td>\n      <td>0.177757</td>\n      <td>0.145236</td>\n      <td>42.70</td>\n      <td>30.60</td>\n      <td>Lprotect/rentalcalc/PropertyPicturesActivity;-...</td>\n    </tr>\n    <tr>\n      <th>903</th>\n      <td>Code-based fitness</td>\n      <td>protect.rentalcalc97</td>\n      <td>1.0</td>\n      <td>NaN</td>\n      <td>0.000000</td>\n      <td>751.00</td>\n      <td>1.00</td>\n      <td>Lprotect/rentalcalc/PropertiesListActivity;-&gt;d...</td>\n    </tr>\n    <tr>\n      <th>905</th>\n      <td>Code-based fitness</td>\n      <td>protect.rentalcalc98</td>\n      <td>1.0</td>\n      <td>0.045287</td>\n      <td>0.073826</td>\n      <td>108.75</td>\n      <td>15.15</td>\n      <td>Lprotect/rentalcalc/PropertyWorksheetActivity;...</td>\n    </tr>\n  </tbody>\n</table>\n<p>207 rows × 8 columns</p>\n</div>"
     },
     "execution_count": 12,
     "metadata": {},
     "output_type": "execute_result"
    }
   ],
   "source": [
    "successful"
   ],
   "metadata": {
    "collapsed": false
   }
  },
  {
   "cell_type": "code",
   "execution_count": 13,
   "outputs": [
    {
     "data": {
      "text/plain": "       Fitness function              Objective  Success  \\\n1    Code-based fitness    protect.rentalcalc0      0.0   \n7    Code-based fitness  protect.rentalcalc100      0.0   \n9    Code-based fitness  protect.rentalcalc101      0.0   \n11   Code-based fitness  protect.rentalcalc102      0.0   \n15   Code-based fitness  protect.rentalcalc104      0.0   \n..                  ...                    ...      ...   \n883  Code-based fitness   protect.rentalcalc88      0.0   \n889  Code-based fitness   protect.rentalcalc90      0.0   \n891  Code-based fitness   protect.rentalcalc91      0.0   \n893  Code-based fitness   protect.rentalcalc92      0.0   \n895  Code-based fitness   protect.rentalcalc93      0.0   \n\n     Autocorrelation for k = 1  Information content  Neutrality distance  \\\n1                          NaN             0.000000               751.00   \n7                     0.253891             0.301621                18.90   \n9                     0.203092             0.172313                42.45   \n11                         NaN             0.000000               751.00   \n15                    0.203092             0.172313                42.45   \n..                         ...                  ...                  ...   \n883                   0.251890             0.730051                 3.55   \n889                        NaN             0.000000               751.00   \n891                   0.203092             0.172313                42.45   \n893                   0.203092             0.172313                42.45   \n895                   0.203092             0.172313                42.45   \n\n     Neutrality volume                                               Name  \n1                 1.00  Lprotect/rentalcalc/PropertiesListActivity;->o...  \n7                76.40  Lprotect/rentalcalc/PropertyNotesActivity;->on...  \n9                37.40  Lprotect/rentalcalc/PropertyOverviewActivity;-...  \n11                1.00  Lprotect/rentalcalc/PropertyWorksheetActivity;...  \n15               37.40  Lprotect/rentalcalc/PropertyNotesActivity;->on...  \n..                 ...                                                ...  \n883             291.05  Lprotect/rentalcalc/PropertyViewActivity;->doS...  \n889               1.00  Lprotect/rentalcalc/PropertyWorksheetActivity;...  \n891              37.40  Lprotect/rentalcalc/Property;->toProperty(Land...  \n893              37.40  Lprotect/rentalcalc/PropertyPicturesActivity;-...  \n895              37.40  Lprotect/rentalcalc/PropertyPicturesActivity;-...  \n\n[224 rows x 8 columns]",
      "text/html": "<div>\n<style scoped>\n    .dataframe tbody tr th:only-of-type {\n        vertical-align: middle;\n    }\n\n    .dataframe tbody tr th {\n        vertical-align: top;\n    }\n\n    .dataframe thead th {\n        text-align: right;\n    }\n</style>\n<table border=\"1\" class=\"dataframe\">\n  <thead>\n    <tr style=\"text-align: right;\">\n      <th></th>\n      <th>Fitness function</th>\n      <th>Objective</th>\n      <th>Success</th>\n      <th>Autocorrelation for k = 1</th>\n      <th>Information content</th>\n      <th>Neutrality distance</th>\n      <th>Neutrality volume</th>\n      <th>Name</th>\n    </tr>\n  </thead>\n  <tbody>\n    <tr>\n      <th>1</th>\n      <td>Code-based fitness</td>\n      <td>protect.rentalcalc0</td>\n      <td>0.0</td>\n      <td>NaN</td>\n      <td>0.000000</td>\n      <td>751.00</td>\n      <td>1.00</td>\n      <td>Lprotect/rentalcalc/PropertiesListActivity;-&gt;o...</td>\n    </tr>\n    <tr>\n      <th>7</th>\n      <td>Code-based fitness</td>\n      <td>protect.rentalcalc100</td>\n      <td>0.0</td>\n      <td>0.253891</td>\n      <td>0.301621</td>\n      <td>18.90</td>\n      <td>76.40</td>\n      <td>Lprotect/rentalcalc/PropertyNotesActivity;-&gt;on...</td>\n    </tr>\n    <tr>\n      <th>9</th>\n      <td>Code-based fitness</td>\n      <td>protect.rentalcalc101</td>\n      <td>0.0</td>\n      <td>0.203092</td>\n      <td>0.172313</td>\n      <td>42.45</td>\n      <td>37.40</td>\n      <td>Lprotect/rentalcalc/PropertyOverviewActivity;-...</td>\n    </tr>\n    <tr>\n      <th>11</th>\n      <td>Code-based fitness</td>\n      <td>protect.rentalcalc102</td>\n      <td>0.0</td>\n      <td>NaN</td>\n      <td>0.000000</td>\n      <td>751.00</td>\n      <td>1.00</td>\n      <td>Lprotect/rentalcalc/PropertyWorksheetActivity;...</td>\n    </tr>\n    <tr>\n      <th>15</th>\n      <td>Code-based fitness</td>\n      <td>protect.rentalcalc104</td>\n      <td>0.0</td>\n      <td>0.203092</td>\n      <td>0.172313</td>\n      <td>42.45</td>\n      <td>37.40</td>\n      <td>Lprotect/rentalcalc/PropertyNotesActivity;-&gt;on...</td>\n    </tr>\n    <tr>\n      <th>...</th>\n      <td>...</td>\n      <td>...</td>\n      <td>...</td>\n      <td>...</td>\n      <td>...</td>\n      <td>...</td>\n      <td>...</td>\n      <td>...</td>\n    </tr>\n    <tr>\n      <th>883</th>\n      <td>Code-based fitness</td>\n      <td>protect.rentalcalc88</td>\n      <td>0.0</td>\n      <td>0.251890</td>\n      <td>0.730051</td>\n      <td>3.55</td>\n      <td>291.05</td>\n      <td>Lprotect/rentalcalc/PropertyViewActivity;-&gt;doS...</td>\n    </tr>\n    <tr>\n      <th>889</th>\n      <td>Code-based fitness</td>\n      <td>protect.rentalcalc90</td>\n      <td>0.0</td>\n      <td>NaN</td>\n      <td>0.000000</td>\n      <td>751.00</td>\n      <td>1.00</td>\n      <td>Lprotect/rentalcalc/PropertyWorksheetActivity;...</td>\n    </tr>\n    <tr>\n      <th>891</th>\n      <td>Code-based fitness</td>\n      <td>protect.rentalcalc91</td>\n      <td>0.0</td>\n      <td>0.203092</td>\n      <td>0.172313</td>\n      <td>42.45</td>\n      <td>37.40</td>\n      <td>Lprotect/rentalcalc/Property;-&gt;toProperty(Land...</td>\n    </tr>\n    <tr>\n      <th>893</th>\n      <td>Code-based fitness</td>\n      <td>protect.rentalcalc92</td>\n      <td>0.0</td>\n      <td>0.203092</td>\n      <td>0.172313</td>\n      <td>42.45</td>\n      <td>37.40</td>\n      <td>Lprotect/rentalcalc/PropertyPicturesActivity;-...</td>\n    </tr>\n    <tr>\n      <th>895</th>\n      <td>Code-based fitness</td>\n      <td>protect.rentalcalc93</td>\n      <td>0.0</td>\n      <td>0.203092</td>\n      <td>0.172313</td>\n      <td>42.45</td>\n      <td>37.40</td>\n      <td>Lprotect/rentalcalc/PropertyPicturesActivity;-...</td>\n    </tr>\n  </tbody>\n</table>\n<p>224 rows × 8 columns</p>\n</div>"
     },
     "execution_count": 13,
     "metadata": {},
     "output_type": "execute_result"
    }
   ],
   "source": [
    "unsuccessful"
   ],
   "metadata": {
    "collapsed": false
   }
  },
  {
   "cell_type": "code",
   "execution_count": 15,
   "outputs": [],
   "source": [
    "unsuccessful_not_flat = unsuccessful[unsuccessful[const.NEUTRALITY_DISTANCE] != 751]"
   ],
   "metadata": {
    "collapsed": false
   }
  },
  {
   "cell_type": "code",
   "execution_count": 16,
   "outputs": [
    {
     "data": {
      "text/plain": "       Fitness function              Objective  Success  \\\n7    Code-based fitness  protect.rentalcalc100      0.0   \n9    Code-based fitness  protect.rentalcalc101      0.0   \n15   Code-based fitness  protect.rentalcalc104      0.0   \n17   Code-based fitness  protect.rentalcalc105      0.0   \n21   Code-based fitness  protect.rentalcalc107      0.0   \n..                  ...                    ...      ...   \n879  Code-based fitness   protect.rentalcalc86      0.0   \n883  Code-based fitness   protect.rentalcalc88      0.0   \n891  Code-based fitness   protect.rentalcalc91      0.0   \n893  Code-based fitness   protect.rentalcalc92      0.0   \n895  Code-based fitness   protect.rentalcalc93      0.0   \n\n     Autocorrelation for k = 1  Information content  Neutrality distance  \\\n7                     0.253891             0.301621                18.90   \n9                     0.203092             0.172313                42.45   \n15                    0.203092             0.172313                42.45   \n17                    0.232669             0.731740                 3.10   \n21                    0.203092             0.172313                42.45   \n..                         ...                  ...                  ...   \n879                   0.203092             0.172313                42.45   \n883                   0.251890             0.730051                 3.55   \n891                   0.203092             0.172313                42.45   \n893                   0.203092             0.172313                42.45   \n895                   0.203092             0.172313                42.45   \n\n     Neutrality volume                                               Name  \n7                76.40  Lprotect/rentalcalc/PropertyNotesActivity;->on...  \n9                37.40  Lprotect/rentalcalc/PropertyOverviewActivity;-...  \n15               37.40  Lprotect/rentalcalc/PropertyNotesActivity;->on...  \n17              306.60  Lprotect/rentalcalc/Property;->toBlankIfNull(L...  \n21               37.40  Lprotect/rentalcalc/PropertyViewActivity;->onO...  \n..                 ...                                                ...  \n879              37.40  Lprotect/rentalcalc/PropertyPicturesActivity;-...  \n883             291.05  Lprotect/rentalcalc/PropertyViewActivity;->doS...  \n891              37.40  Lprotect/rentalcalc/Property;->toProperty(Land...  \n893              37.40  Lprotect/rentalcalc/PropertyPicturesActivity;-...  \n895              37.40  Lprotect/rentalcalc/PropertyPicturesActivity;-...  \n\n[182 rows x 8 columns]",
      "text/html": "<div>\n<style scoped>\n    .dataframe tbody tr th:only-of-type {\n        vertical-align: middle;\n    }\n\n    .dataframe tbody tr th {\n        vertical-align: top;\n    }\n\n    .dataframe thead th {\n        text-align: right;\n    }\n</style>\n<table border=\"1\" class=\"dataframe\">\n  <thead>\n    <tr style=\"text-align: right;\">\n      <th></th>\n      <th>Fitness function</th>\n      <th>Objective</th>\n      <th>Success</th>\n      <th>Autocorrelation for k = 1</th>\n      <th>Information content</th>\n      <th>Neutrality distance</th>\n      <th>Neutrality volume</th>\n      <th>Name</th>\n    </tr>\n  </thead>\n  <tbody>\n    <tr>\n      <th>7</th>\n      <td>Code-based fitness</td>\n      <td>protect.rentalcalc100</td>\n      <td>0.0</td>\n      <td>0.253891</td>\n      <td>0.301621</td>\n      <td>18.90</td>\n      <td>76.40</td>\n      <td>Lprotect/rentalcalc/PropertyNotesActivity;-&gt;on...</td>\n    </tr>\n    <tr>\n      <th>9</th>\n      <td>Code-based fitness</td>\n      <td>protect.rentalcalc101</td>\n      <td>0.0</td>\n      <td>0.203092</td>\n      <td>0.172313</td>\n      <td>42.45</td>\n      <td>37.40</td>\n      <td>Lprotect/rentalcalc/PropertyOverviewActivity;-...</td>\n    </tr>\n    <tr>\n      <th>15</th>\n      <td>Code-based fitness</td>\n      <td>protect.rentalcalc104</td>\n      <td>0.0</td>\n      <td>0.203092</td>\n      <td>0.172313</td>\n      <td>42.45</td>\n      <td>37.40</td>\n      <td>Lprotect/rentalcalc/PropertyNotesActivity;-&gt;on...</td>\n    </tr>\n    <tr>\n      <th>17</th>\n      <td>Code-based fitness</td>\n      <td>protect.rentalcalc105</td>\n      <td>0.0</td>\n      <td>0.232669</td>\n      <td>0.731740</td>\n      <td>3.10</td>\n      <td>306.60</td>\n      <td>Lprotect/rentalcalc/Property;-&gt;toBlankIfNull(L...</td>\n    </tr>\n    <tr>\n      <th>21</th>\n      <td>Code-based fitness</td>\n      <td>protect.rentalcalc107</td>\n      <td>0.0</td>\n      <td>0.203092</td>\n      <td>0.172313</td>\n      <td>42.45</td>\n      <td>37.40</td>\n      <td>Lprotect/rentalcalc/PropertyViewActivity;-&gt;onO...</td>\n    </tr>\n    <tr>\n      <th>...</th>\n      <td>...</td>\n      <td>...</td>\n      <td>...</td>\n      <td>...</td>\n      <td>...</td>\n      <td>...</td>\n      <td>...</td>\n      <td>...</td>\n    </tr>\n    <tr>\n      <th>879</th>\n      <td>Code-based fitness</td>\n      <td>protect.rentalcalc86</td>\n      <td>0.0</td>\n      <td>0.203092</td>\n      <td>0.172313</td>\n      <td>42.45</td>\n      <td>37.40</td>\n      <td>Lprotect/rentalcalc/PropertyPicturesActivity;-...</td>\n    </tr>\n    <tr>\n      <th>883</th>\n      <td>Code-based fitness</td>\n      <td>protect.rentalcalc88</td>\n      <td>0.0</td>\n      <td>0.251890</td>\n      <td>0.730051</td>\n      <td>3.55</td>\n      <td>291.05</td>\n      <td>Lprotect/rentalcalc/PropertyViewActivity;-&gt;doS...</td>\n    </tr>\n    <tr>\n      <th>891</th>\n      <td>Code-based fitness</td>\n      <td>protect.rentalcalc91</td>\n      <td>0.0</td>\n      <td>0.203092</td>\n      <td>0.172313</td>\n      <td>42.45</td>\n      <td>37.40</td>\n      <td>Lprotect/rentalcalc/Property;-&gt;toProperty(Land...</td>\n    </tr>\n    <tr>\n      <th>893</th>\n      <td>Code-based fitness</td>\n      <td>protect.rentalcalc92</td>\n      <td>0.0</td>\n      <td>0.203092</td>\n      <td>0.172313</td>\n      <td>42.45</td>\n      <td>37.40</td>\n      <td>Lprotect/rentalcalc/PropertyPicturesActivity;-...</td>\n    </tr>\n    <tr>\n      <th>895</th>\n      <td>Code-based fitness</td>\n      <td>protect.rentalcalc93</td>\n      <td>0.0</td>\n      <td>0.203092</td>\n      <td>0.172313</td>\n      <td>42.45</td>\n      <td>37.40</td>\n      <td>Lprotect/rentalcalc/PropertyPicturesActivity;-...</td>\n    </tr>\n  </tbody>\n</table>\n<p>182 rows × 8 columns</p>\n</div>"
     },
     "execution_count": 16,
     "metadata": {},
     "output_type": "execute_result"
    }
   ],
   "source": [
    "unsuccessful_not_flat"
   ],
   "metadata": {
    "collapsed": false
   }
  },
  {
   "cell_type": "code",
   "execution_count": 17,
   "outputs": [],
   "source": [
    "successful_not_flat = successful[successful[const.NEUTRALITY_DISTANCE] != 751]"
   ],
   "metadata": {
    "collapsed": false
   }
  },
  {
   "cell_type": "code",
   "execution_count": 18,
   "outputs": [
    {
     "data": {
      "text/plain": "       Fitness function              Objective  Success  \\\n3    Code-based fitness    protect.rentalcalc1      1.0   \n5    Code-based fitness   protect.rentalcalc10      1.0   \n13   Code-based fitness  protect.rentalcalc103      1.0   \n23   Code-based fitness  protect.rentalcalc108      1.0   \n31   Code-based fitness  protect.rentalcalc111      1.0   \n..                  ...                    ...      ...   \n885  Code-based fitness   protect.rentalcalc89      1.0   \n887  Code-based fitness    protect.rentalcalc9      1.0   \n897  Code-based fitness   protect.rentalcalc94      1.0   \n901  Code-based fitness   protect.rentalcalc96      1.0   \n905  Code-based fitness   protect.rentalcalc98      1.0   \n\n     Autocorrelation for k = 1  Information content  Neutrality distance  \\\n3                     0.208740             0.194051                35.90   \n5                     0.126690             0.818205                 2.95   \n13                    0.186247             0.195530                35.90   \n23                    0.177757             0.145236                42.70   \n31                    0.243653             0.731271                 3.10   \n..                         ...                  ...                  ...   \n885                   0.235826             0.143605                55.20   \n887                   0.203092             0.172313                42.45   \n897                   0.177757             0.145236                42.70   \n901                   0.177757             0.145236                42.70   \n905                   0.045287             0.073826               108.75   \n\n     Neutrality volume                                               Name  \n3                45.90  Lprotect/rentalcalc/PropertyWorksheetActivity;...  \n5               371.85  Lprotect/rentalcalc/PropertyViewActivity;->onC...  \n13               45.50  Lprotect/rentalcalc/PropertyPicturesActivity;-...  \n23               30.60  Lprotect/rentalcalc/PictureViewActivity;->onCr...  \n31              307.30  Lprotect/rentalcalc/PropertyCursorAdapter;->bi...  \n..                 ...                                                ...  \n885              29.40  Lprotect/rentalcalc/CalcUtil;->calculateForYea...  \n887              37.40  Lprotect/rentalcalc/PropertyWorksheetActivity;...  \n897              30.60  Lprotect/rentalcalc/PropertyWorksheetActivity;...  \n901              30.60  Lprotect/rentalcalc/PropertyPicturesActivity;-...  \n905              15.15  Lprotect/rentalcalc/PropertyWorksheetActivity;...  \n\n[169 rows x 8 columns]",
      "text/html": "<div>\n<style scoped>\n    .dataframe tbody tr th:only-of-type {\n        vertical-align: middle;\n    }\n\n    .dataframe tbody tr th {\n        vertical-align: top;\n    }\n\n    .dataframe thead th {\n        text-align: right;\n    }\n</style>\n<table border=\"1\" class=\"dataframe\">\n  <thead>\n    <tr style=\"text-align: right;\">\n      <th></th>\n      <th>Fitness function</th>\n      <th>Objective</th>\n      <th>Success</th>\n      <th>Autocorrelation for k = 1</th>\n      <th>Information content</th>\n      <th>Neutrality distance</th>\n      <th>Neutrality volume</th>\n      <th>Name</th>\n    </tr>\n  </thead>\n  <tbody>\n    <tr>\n      <th>3</th>\n      <td>Code-based fitness</td>\n      <td>protect.rentalcalc1</td>\n      <td>1.0</td>\n      <td>0.208740</td>\n      <td>0.194051</td>\n      <td>35.90</td>\n      <td>45.90</td>\n      <td>Lprotect/rentalcalc/PropertyWorksheetActivity;...</td>\n    </tr>\n    <tr>\n      <th>5</th>\n      <td>Code-based fitness</td>\n      <td>protect.rentalcalc10</td>\n      <td>1.0</td>\n      <td>0.126690</td>\n      <td>0.818205</td>\n      <td>2.95</td>\n      <td>371.85</td>\n      <td>Lprotect/rentalcalc/PropertyViewActivity;-&gt;onC...</td>\n    </tr>\n    <tr>\n      <th>13</th>\n      <td>Code-based fitness</td>\n      <td>protect.rentalcalc103</td>\n      <td>1.0</td>\n      <td>0.186247</td>\n      <td>0.195530</td>\n      <td>35.90</td>\n      <td>45.50</td>\n      <td>Lprotect/rentalcalc/PropertyPicturesActivity;-...</td>\n    </tr>\n    <tr>\n      <th>23</th>\n      <td>Code-based fitness</td>\n      <td>protect.rentalcalc108</td>\n      <td>1.0</td>\n      <td>0.177757</td>\n      <td>0.145236</td>\n      <td>42.70</td>\n      <td>30.60</td>\n      <td>Lprotect/rentalcalc/PictureViewActivity;-&gt;onCr...</td>\n    </tr>\n    <tr>\n      <th>31</th>\n      <td>Code-based fitness</td>\n      <td>protect.rentalcalc111</td>\n      <td>1.0</td>\n      <td>0.243653</td>\n      <td>0.731271</td>\n      <td>3.10</td>\n      <td>307.30</td>\n      <td>Lprotect/rentalcalc/PropertyCursorAdapter;-&gt;bi...</td>\n    </tr>\n    <tr>\n      <th>...</th>\n      <td>...</td>\n      <td>...</td>\n      <td>...</td>\n      <td>...</td>\n      <td>...</td>\n      <td>...</td>\n      <td>...</td>\n      <td>...</td>\n    </tr>\n    <tr>\n      <th>885</th>\n      <td>Code-based fitness</td>\n      <td>protect.rentalcalc89</td>\n      <td>1.0</td>\n      <td>0.235826</td>\n      <td>0.143605</td>\n      <td>55.20</td>\n      <td>29.40</td>\n      <td>Lprotect/rentalcalc/CalcUtil;-&gt;calculateForYea...</td>\n    </tr>\n    <tr>\n      <th>887</th>\n      <td>Code-based fitness</td>\n      <td>protect.rentalcalc9</td>\n      <td>1.0</td>\n      <td>0.203092</td>\n      <td>0.172313</td>\n      <td>42.45</td>\n      <td>37.40</td>\n      <td>Lprotect/rentalcalc/PropertyWorksheetActivity;...</td>\n    </tr>\n    <tr>\n      <th>897</th>\n      <td>Code-based fitness</td>\n      <td>protect.rentalcalc94</td>\n      <td>1.0</td>\n      <td>0.177757</td>\n      <td>0.145236</td>\n      <td>42.70</td>\n      <td>30.60</td>\n      <td>Lprotect/rentalcalc/PropertyWorksheetActivity;...</td>\n    </tr>\n    <tr>\n      <th>901</th>\n      <td>Code-based fitness</td>\n      <td>protect.rentalcalc96</td>\n      <td>1.0</td>\n      <td>0.177757</td>\n      <td>0.145236</td>\n      <td>42.70</td>\n      <td>30.60</td>\n      <td>Lprotect/rentalcalc/PropertyPicturesActivity;-...</td>\n    </tr>\n    <tr>\n      <th>905</th>\n      <td>Code-based fitness</td>\n      <td>protect.rentalcalc98</td>\n      <td>1.0</td>\n      <td>0.045287</td>\n      <td>0.073826</td>\n      <td>108.75</td>\n      <td>15.15</td>\n      <td>Lprotect/rentalcalc/PropertyWorksheetActivity;...</td>\n    </tr>\n  </tbody>\n</table>\n<p>169 rows × 8 columns</p>\n</div>"
     },
     "execution_count": 18,
     "metadata": {},
     "output_type": "execute_result"
    }
   ],
   "source": [
    "successful_not_flat"
   ],
   "metadata": {
    "collapsed": false
   }
  },
  {
   "cell_type": "code",
   "execution_count": 19,
   "outputs": [],
   "source": [
    "sampled_branches = pd.concat([unsuccessful_not_flat.sample(), successful_not_flat.sample()])"
   ],
   "metadata": {
    "collapsed": false
   }
  },
  {
   "cell_type": "markdown",
   "source": [
    "The following line hardcodes the sampled branches to the one used in the thesis. Remove this cell if you want to have new samples branches."
   ],
   "metadata": {
    "collapsed": false
   }
  },
  {
   "cell_type": "code",
   "execution_count": 26,
   "outputs": [],
   "source": [
    "sampled_branches = rentalcalc_branches_with_names[((rentalcalc_branches_with_names[const.OBJECTIVE] == \"protect.rentalcalc202\") ^ (rentalcalc_branches_with_names[const.OBJECTIVE] == \"protect.rentalcalc59\")) & (rentalcalc_branches_with_names[const.FITNESS_FUNCTION] == const.CODE_BASED)]"
   ],
   "metadata": {
    "collapsed": false
   }
  },
  {
   "cell_type": "code",
   "execution_count": 27,
   "outputs": [
    {
     "data": {
      "text/plain": "       Fitness function              Objective  Success  \\\n233  Code-based fitness  protect.rentalcalc202      0.0   \n819  Code-based fitness   protect.rentalcalc59      1.0   \n\n     Autocorrelation for k = 1  Information content  Neutrality distance  \\\n233                   0.253891             0.301621                 18.9   \n819                   0.175427             0.143192                 42.7   \n\n     Neutrality volume                                               Name  \n233               76.4  Lprotect/rentalcalc/PropertyPicturesActivity;-...  \n819               31.4  Lprotect/rentalcalc/PropertyNotesActivity;->on...  ",
      "text/html": "<div>\n<style scoped>\n    .dataframe tbody tr th:only-of-type {\n        vertical-align: middle;\n    }\n\n    .dataframe tbody tr th {\n        vertical-align: top;\n    }\n\n    .dataframe thead th {\n        text-align: right;\n    }\n</style>\n<table border=\"1\" class=\"dataframe\">\n  <thead>\n    <tr style=\"text-align: right;\">\n      <th></th>\n      <th>Fitness function</th>\n      <th>Objective</th>\n      <th>Success</th>\n      <th>Autocorrelation for k = 1</th>\n      <th>Information content</th>\n      <th>Neutrality distance</th>\n      <th>Neutrality volume</th>\n      <th>Name</th>\n    </tr>\n  </thead>\n  <tbody>\n    <tr>\n      <th>233</th>\n      <td>Code-based fitness</td>\n      <td>protect.rentalcalc202</td>\n      <td>0.0</td>\n      <td>0.253891</td>\n      <td>0.301621</td>\n      <td>18.9</td>\n      <td>76.4</td>\n      <td>Lprotect/rentalcalc/PropertyPicturesActivity;-...</td>\n    </tr>\n    <tr>\n      <th>819</th>\n      <td>Code-based fitness</td>\n      <td>protect.rentalcalc59</td>\n      <td>1.0</td>\n      <td>0.175427</td>\n      <td>0.143192</td>\n      <td>42.7</td>\n      <td>31.4</td>\n      <td>Lprotect/rentalcalc/PropertyNotesActivity;-&gt;on...</td>\n    </tr>\n  </tbody>\n</table>\n</div>"
     },
     "execution_count": 27,
     "metadata": {},
     "output_type": "execute_result"
    }
   ],
   "source": [
    "sampled_branches"
   ],
   "metadata": {
    "collapsed": false
   }
  },
  {
   "cell_type": "code",
   "execution_count": 28,
   "outputs": [],
   "source": [
    "sampled_branches.to_csv(\"rentalcalc/samples_for_case_study\")"
   ],
   "metadata": {
    "collapsed": false
   }
  }
 ],
 "metadata": {
  "kernelspec": {
   "display_name": "Python 3",
   "language": "python",
   "name": "python3"
  },
  "language_info": {
   "codemirror_mode": {
    "name": "ipython",
    "version": 2
   },
   "file_extension": ".py",
   "mimetype": "text/x-python",
   "name": "python",
   "nbconvert_exporter": "python",
   "pygments_lexer": "ipython2",
   "version": "2.7.6"
  }
 },
 "nbformat": 4,
 "nbformat_minor": 0
}
