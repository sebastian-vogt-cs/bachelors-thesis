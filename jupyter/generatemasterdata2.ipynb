{
 "cells": [
  {
   "cell_type": "code",
   "execution_count": 1,
   "outputs": [],
   "source": [
    "%load_ext autoreload\n",
    "%autoreload 3\n",
    "\n",
    "import pickle\n",
    "import pandas as pd\n",
    "import modules.constants as const\n",
    "import sys\n",
    "import math\n",
    "import modules.data_preparation as data_prep\n",
    "import modules.measures as measures\n",
    "from functools import partial\n",
    "\n",
    "machine_epsilon = sys.float_info.epsilon"
   ],
   "metadata": {
    "collapsed": false
   }
  },
  {
   "cell_type": "code",
   "execution_count": 2,
   "outputs": [],
   "source": [
    "all_walks = data_prep.get_sequences_per_objective_and_fitness_function()"
   ],
   "metadata": {
    "collapsed": false
   }
  },
  {
   "cell_type": "code",
   "execution_count": 3,
   "outputs": [],
   "source": [
    "information_content_dict = data_prep.apply_measure_to_dict(all_walks, measures.information_content)\n",
    "\n",
    "objectives = []\n",
    "fitness_functions = []\n",
    "successes = []\n",
    "\n",
    "for objective in information_content_dict.keys():\n",
    "    for fitness_function in information_content_dict[objective].keys():\n",
    "        for success in information_content_dict[objective][fitness_function]:\n",
    "            objectives.append(objective)\n",
    "            successes.append(success)\n",
    "            if fitness_function == \"distance\":\n",
    "                fitness_functions.append(const.BRANCH_DISTANCE)\n",
    "            elif fitness_function == \"noDistance\":\n",
    "                fitness_functions.append(const.CODE_BASED)\n",
    "            else:\n",
    "                raise AttributeError(\"invalid fitness function\")\n",
    "\n",
    "information_content_df = pd.DataFrame()\n",
    "\n",
    "information_content_df[const.FITNESS_FUNCTION] = fitness_functions\n",
    "information_content_df['Objective'] = objectives\n",
    "information_content_df[const.INFORMATION_CONTENT] = successes\n",
    "\n",
    "information_content_df.to_csv(\"store2/information_content_measure_df_with_objectives.csv\", index=False)\n",
    "\n",
    "newMeasureList = information_content_df[const.INFORMATION_CONTENT]\n",
    "\n",
    "newMeasurePList = list(newMeasureList)\n",
    "assert len(newMeasureList) == len(newMeasurePList)"
   ],
   "metadata": {
    "collapsed": false
   }
  },
  {
   "cell_type": "code",
   "execution_count": 4,
   "outputs": [],
   "source": [
    "neutrality_distance_dict = data_prep.apply_measure_to_dict(all_walks, measures.neutrality_distance)\n",
    "\n",
    "objectives = []\n",
    "fitness_functions = []\n",
    "successes = []\n",
    "\n",
    "for objective in neutrality_distance_dict.keys():\n",
    "    for fitness_function in neutrality_distance_dict[objective].keys():\n",
    "        for success in neutrality_distance_dict[objective][fitness_function]:\n",
    "            objectives.append(objective)\n",
    "            successes.append(success)\n",
    "            if fitness_function == \"distance\":\n",
    "                fitness_functions.append(const.BRANCH_DISTANCE)\n",
    "            elif fitness_function == \"noDistance\":\n",
    "                fitness_functions.append(const.CODE_BASED)\n",
    "            else:\n",
    "                raise AttributeError(\"invalid fitness function\")\n",
    "\n",
    "neutrality_distance_df = pd.DataFrame()\n",
    "\n",
    "neutrality_distance_df[const.FITNESS_FUNCTION] = fitness_functions\n",
    "neutrality_distance_df['Objective'] = objectives\n",
    "neutrality_distance_df[const.NEUTRALITY_DISTANCE] = successes\n",
    "\n",
    "neutrality_distance_df.to_csv(\"store2/neutrality_distance_measure_df_with_objectives.csv\", index=False)\n",
    "\n",
    "newMeasureList = neutrality_distance_df[const.NEUTRALITY_DISTANCE]\n",
    "\n",
    "newMeasurePList = list(newMeasureList)\n",
    "assert len(newMeasureList) == len(newMeasurePList)"
   ],
   "metadata": {
    "collapsed": false
   }
  },
  {
   "cell_type": "code",
   "execution_count": 5,
   "outputs": [],
   "source": [
    "neutrality_volume_dict = data_prep.apply_measure_to_dict(all_walks, measures.neutrality_volume)\n",
    "\n",
    "objectives = []\n",
    "fitness_functions = []\n",
    "successes = []\n",
    "\n",
    "for objective in neutrality_volume_dict.keys():\n",
    "    for fitness_function in neutrality_volume_dict[objective].keys():\n",
    "        for success in neutrality_volume_dict[objective][fitness_function]:\n",
    "            objectives.append(objective)\n",
    "            successes.append(success)\n",
    "            if fitness_function == \"distance\":\n",
    "                fitness_functions.append(const.BRANCH_DISTANCE)\n",
    "            elif fitness_function == \"noDistance\":\n",
    "                fitness_functions.append(const.CODE_BASED)\n",
    "            else:\n",
    "                raise AttributeError(\"invalid fitness function\")\n",
    "\n",
    "neutrality_volume_df = pd.DataFrame()\n",
    "\n",
    "neutrality_volume_df[const.FITNESS_FUNCTION] = fitness_functions\n",
    "neutrality_volume_df['Objective'] = objectives\n",
    "neutrality_volume_df[const.NEUTRALITY_VOLUME] = successes\n",
    "\n",
    "neutrality_volume_df.to_csv(\"store2/neutrality_volume_measure_df_with_objectives.csv\", index=False)\n",
    "\n",
    "newMeasureList = neutrality_volume_df[const.NEUTRALITY_VOLUME]\n",
    "\n",
    "newMeasurePList = list(newMeasureList)\n",
    "assert len(newMeasureList) == len(newMeasurePList)"
   ],
   "metadata": {
    "collapsed": false
   }
  },
  {
   "cell_type": "code",
   "execution_count": 6,
   "outputs": [],
   "source": [
    "autocorrelation_dict = data_prep.apply_measure_to_dict(all_walks, partial(measures.autocorrelation, k=1))\n",
    "\n",
    "objectives = []\n",
    "fitness_functions = []\n",
    "successes = []\n",
    "\n",
    "for objective in autocorrelation_dict.keys():\n",
    "    for fitness_function in autocorrelation_dict[objective].keys():\n",
    "        for success in autocorrelation_dict[objective][fitness_function]:\n",
    "            objectives.append(objective)\n",
    "            successes.append(success)\n",
    "            if fitness_function == \"distance\":\n",
    "                fitness_functions.append(const.BRANCH_DISTANCE)\n",
    "            elif fitness_function == \"noDistance\":\n",
    "                fitness_functions.append(const.CODE_BASED)\n",
    "            else:\n",
    "                raise AttributeError(\"invalid fitness function\")\n",
    "\n",
    "autocorrelation_df = pd.DataFrame()\n",
    "\n",
    "autocorrelation_df[const.FITNESS_FUNCTION] = fitness_functions\n",
    "autocorrelation_df['Objective'] = objectives\n",
    "autocorrelation_df[const.AUTOCORRELATION(1)] = successes\n",
    "\n",
    "autocorrelation_df.to_csv(\"store2/autocorrelation1_measure_df_with_objectives.csv\", index=False)\n",
    "\n",
    "newMeasureList = autocorrelation_df[const.AUTOCORRELATION(1)]\n",
    "\n",
    "newMeasureList = [val for val in newMeasureList if not math.isnan(val)]\n",
    "\n",
    "newMeasurePList = list(newMeasureList)\n",
    "assert len(newMeasureList) == len(newMeasurePList)"
   ],
   "metadata": {
    "collapsed": false
   }
  },
  {
   "cell_type": "code",
   "execution_count": 7,
   "outputs": [],
   "source": [
    "autocorrelation_dict = data_prep.apply_measure_to_dict(all_walks, partial(measures.autocorrelation, k=2))\n",
    "\n",
    "objectives = []\n",
    "fitness_functions = []\n",
    "successes = []\n",
    "\n",
    "for objective in autocorrelation_dict.keys():\n",
    "    for fitness_function in autocorrelation_dict[objective].keys():\n",
    "        for success in autocorrelation_dict[objective][fitness_function]:\n",
    "            objectives.append(objective)\n",
    "            successes.append(success)\n",
    "            if fitness_function == \"distance\":\n",
    "                fitness_functions.append(const.BRANCH_DISTANCE)\n",
    "            elif fitness_function == \"noDistance\":\n",
    "                fitness_functions.append(const.CODE_BASED)\n",
    "            else:\n",
    "                raise AttributeError(\"invalid fitness function\")\n",
    "\n",
    "autocorrelation_df = pd.DataFrame()\n",
    "\n",
    "autocorrelation_df[const.FITNESS_FUNCTION] = fitness_functions\n",
    "autocorrelation_df['Objective'] = objectives\n",
    "autocorrelation_df[const.AUTOCORRELATION(2)] = successes\n",
    "\n",
    "autocorrelation_df.to_csv(\"store2/autocorrelation2_measure_df_with_objectives.csv\", index=False)\n",
    "\n",
    "newMeasureList = autocorrelation_df[const.AUTOCORRELATION(2)]\n",
    "\n",
    "newMeasureList = [val for val in newMeasureList if not math.isnan(val)]\n",
    "\n",
    "newMeasurePList = list(newMeasureList)\n",
    "assert len(newMeasureList) == len(newMeasurePList)"
   ],
   "metadata": {
    "collapsed": false
   }
  },
  {
   "cell_type": "code",
   "execution_count": 8,
   "outputs": [],
   "source": [
    "autocorrelation_dict = data_prep.apply_measure_to_dict(all_walks, partial(measures.autocorrelation, k=3))\n",
    "\n",
    "objectives = []\n",
    "fitness_functions = []\n",
    "successes = []\n",
    "\n",
    "for objective in autocorrelation_dict.keys():\n",
    "    for fitness_function in autocorrelation_dict[objective].keys():\n",
    "        for success in autocorrelation_dict[objective][fitness_function]:\n",
    "            objectives.append(objective)\n",
    "            successes.append(success)\n",
    "            if fitness_function == \"distance\":\n",
    "                fitness_functions.append(const.BRANCH_DISTANCE)\n",
    "            elif fitness_function == \"noDistance\":\n",
    "                fitness_functions.append(const.CODE_BASED)\n",
    "            else:\n",
    "                raise AttributeError(\"invalid fitness function\")\n",
    "\n",
    "autocorrelation_df = pd.DataFrame()\n",
    "\n",
    "autocorrelation_df[const.FITNESS_FUNCTION] = fitness_functions\n",
    "autocorrelation_df['Objective'] = objectives\n",
    "autocorrelation_df[const.AUTOCORRELATION(3)] = successes\n",
    "\n",
    "autocorrelation_df.to_csv(\"store2/autocorrelation3_measure_df_with_objectives.csv\", index=False)\n",
    "\n",
    "newMeasureList = autocorrelation_df[const.AUTOCORRELATION(3)]\n",
    "\n",
    "newMeasureList = [val for val in newMeasureList if not math.isnan(val)]\n",
    "newMeasurePList = list(newMeasureList)\n",
    "assert len(newMeasureList) == len(newMeasurePList)"
   ],
   "metadata": {
    "collapsed": false
   }
  }
 ],
 "metadata": {
  "kernelspec": {
   "display_name": "Python 3",
   "language": "python",
   "name": "python3"
  },
  "language_info": {
   "codemirror_mode": {
    "name": "ipython",
    "version": 2
   },
   "file_extension": ".py",
   "mimetype": "text/x-python",
   "name": "python",
   "nbconvert_exporter": "python",
   "pygments_lexer": "ipython2",
   "version": "2.7.6"
  }
 },
 "nbformat": 4,
 "nbformat_minor": 0
}
