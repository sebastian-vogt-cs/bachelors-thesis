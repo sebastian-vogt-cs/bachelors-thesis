{
 "cells": [
  {
   "cell_type": "code",
   "execution_count": 2,
   "outputs": [],
   "source": [
    "import math\n",
    "from functools import partial\n",
    "from functools import reduce\n",
    "import modules.measures as measures\n",
    "import modules.constants as const\n",
    "import pandas as pd"
   ],
   "metadata": {
    "collapsed": false
   }
  },
  {
   "cell_type": "code",
   "execution_count": 3,
   "metadata": {
    "collapsed": true
   },
   "outputs": [],
   "source": [
    "import modules.data_preparation as data_prep\n",
    "\n",
    "mio_df = data_prep.get_mio_runs()\n",
    "\n",
    "mio_df = mio_df.groupby(['Fitness function', 'Objective'], as_index=False).aggregate(lambda l: sum(l) / 20)"
   ]
  },
  {
   "cell_type": "code",
   "execution_count": 4,
   "outputs": [],
   "source": [
    "autocorrelation_df = pd.read_csv(\"store2/autocorrelation1_measure_df_with_objectives.csv\")\n",
    "\n",
    "def aggregate(l):\n",
    "    l2 = [n for n in l if not math.isnan(n)]\n",
    "    return None if len(l2) == 0 else sum(l2) / len(l2)\n",
    "\n",
    "autocorrelation_df = autocorrelation_df.groupby(['Fitness function', 'Objective'], as_index=False).aggregate(aggregate)\n",
    "autocorrelation_df['Fitness function'].replace({'distance': const.BRANCH_DISTANCE, 'noDistance': const.CODE_BASED}, inplace=True)"
   ],
   "metadata": {
    "collapsed": false
   }
  },
  {
   "cell_type": "code",
   "execution_count": 5,
   "outputs": [],
   "source": [
    "information_content_df = pd.read_csv(\"store2/information_content_measure_df_with_objectives.csv\")\n",
    "\n",
    "information_content_df = information_content_df.groupby(['Fitness function', 'Objective'], as_index=False).aggregate(aggregate)\n",
    "information_content_df['Fitness function'].replace({'distance': const.BRANCH_DISTANCE, 'noDistance': const.CODE_BASED}, inplace=True)"
   ],
   "metadata": {
    "collapsed": false
   }
  },
  {
   "cell_type": "code",
   "execution_count": 6,
   "outputs": [],
   "source": [
    "neutrality_distance_df = pd.read_csv(\"store2/neutrality_distance_measure_df_with_objectives.csv\")\n",
    "\n",
    "neutrality_distance_df = neutrality_distance_df.groupby(['Fitness function', 'Objective'], as_index=False).aggregate(aggregate)\n",
    "neutrality_distance_df['Fitness function'].replace({'distance': const.BRANCH_DISTANCE, 'noDistance': const.CODE_BASED}, inplace=True)"
   ],
   "metadata": {
    "collapsed": false
   }
  },
  {
   "cell_type": "code",
   "execution_count": 7,
   "outputs": [],
   "source": [
    "neutrality_volume_df = pd.read_csv(\"store2/neutrality_volume_measure_df_with_objectives.csv\")\n",
    "\n",
    "neutrality_volume_df = neutrality_volume_df.groupby(['Fitness function', 'Objective'], as_index=False).aggregate(aggregate)\n",
    "neutrality_volume_df['Fitness function'].replace({'distance': const.BRANCH_DISTANCE, 'noDistance': const.CODE_BASED}, inplace=True)"
   ],
   "metadata": {
    "collapsed": false
   }
  },
  {
   "cell_type": "code",
   "execution_count": 8,
   "outputs": [
    {
     "data": {
      "text/plain": "        Fitness function                            Objective  Success  \\\n0        Branch distance    de.arnowelzel.android.periodical0     0.90   \n1        Branch distance    de.arnowelzel.android.periodical1     0.80   \n2        Branch distance   de.arnowelzel.android.periodical10     0.65   \n3        Branch distance  de.arnowelzel.android.periodical100     0.60   \n4        Branch distance  de.arnowelzel.android.periodical101     0.90   \n...                  ...                                  ...      ...   \n5209  Code-based fitness           de.rampro.activitydiary995      NaN   \n5210  Code-based fitness           de.rampro.activitydiary996      NaN   \n5211  Code-based fitness           de.rampro.activitydiary997      NaN   \n5212  Code-based fitness           de.rampro.activitydiary998      NaN   \n5213  Code-based fitness           de.rampro.activitydiary999      NaN   \n\n      Autocorrelation for k = 1  Information content  Neutrality distance  \\\n0                      0.443056             0.622120                34.50   \n1                      0.560847             0.599934                39.75   \n2                      0.501216             0.693099                25.55   \n3                      0.692291             0.565901                62.40   \n4                      0.622764             0.597877                44.80   \n...                         ...                  ...                  ...   \n5209                   0.264666             0.605929                 4.90   \n5210                  -0.043635             0.718792                 3.05   \n5211                  -0.040488             0.717558                 3.45   \n5212                  -0.118450             0.618189                 5.50   \n5213                   0.135823             0.049044               171.90   \n\n      Neutrality volume  \n0                268.50  \n1                259.20  \n2                336.40  \n3                236.05  \n4                252.25  \n...                 ...  \n5209             203.60  \n5210             306.65  \n5211             304.40  \n5212             267.10  \n5213               9.00  \n\n[5214 rows x 7 columns]",
      "text/html": "<div>\n<style scoped>\n    .dataframe tbody tr th:only-of-type {\n        vertical-align: middle;\n    }\n\n    .dataframe tbody tr th {\n        vertical-align: top;\n    }\n\n    .dataframe thead th {\n        text-align: right;\n    }\n</style>\n<table border=\"1\" class=\"dataframe\">\n  <thead>\n    <tr style=\"text-align: right;\">\n      <th></th>\n      <th>Fitness function</th>\n      <th>Objective</th>\n      <th>Success</th>\n      <th>Autocorrelation for k = 1</th>\n      <th>Information content</th>\n      <th>Neutrality distance</th>\n      <th>Neutrality volume</th>\n    </tr>\n  </thead>\n  <tbody>\n    <tr>\n      <th>0</th>\n      <td>Branch distance</td>\n      <td>de.arnowelzel.android.periodical0</td>\n      <td>0.90</td>\n      <td>0.443056</td>\n      <td>0.622120</td>\n      <td>34.50</td>\n      <td>268.50</td>\n    </tr>\n    <tr>\n      <th>1</th>\n      <td>Branch distance</td>\n      <td>de.arnowelzel.android.periodical1</td>\n      <td>0.80</td>\n      <td>0.560847</td>\n      <td>0.599934</td>\n      <td>39.75</td>\n      <td>259.20</td>\n    </tr>\n    <tr>\n      <th>2</th>\n      <td>Branch distance</td>\n      <td>de.arnowelzel.android.periodical10</td>\n      <td>0.65</td>\n      <td>0.501216</td>\n      <td>0.693099</td>\n      <td>25.55</td>\n      <td>336.40</td>\n    </tr>\n    <tr>\n      <th>3</th>\n      <td>Branch distance</td>\n      <td>de.arnowelzel.android.periodical100</td>\n      <td>0.60</td>\n      <td>0.692291</td>\n      <td>0.565901</td>\n      <td>62.40</td>\n      <td>236.05</td>\n    </tr>\n    <tr>\n      <th>4</th>\n      <td>Branch distance</td>\n      <td>de.arnowelzel.android.periodical101</td>\n      <td>0.90</td>\n      <td>0.622764</td>\n      <td>0.597877</td>\n      <td>44.80</td>\n      <td>252.25</td>\n    </tr>\n    <tr>\n      <th>...</th>\n      <td>...</td>\n      <td>...</td>\n      <td>...</td>\n      <td>...</td>\n      <td>...</td>\n      <td>...</td>\n      <td>...</td>\n    </tr>\n    <tr>\n      <th>5209</th>\n      <td>Code-based fitness</td>\n      <td>de.rampro.activitydiary995</td>\n      <td>NaN</td>\n      <td>0.264666</td>\n      <td>0.605929</td>\n      <td>4.90</td>\n      <td>203.60</td>\n    </tr>\n    <tr>\n      <th>5210</th>\n      <td>Code-based fitness</td>\n      <td>de.rampro.activitydiary996</td>\n      <td>NaN</td>\n      <td>-0.043635</td>\n      <td>0.718792</td>\n      <td>3.05</td>\n      <td>306.65</td>\n    </tr>\n    <tr>\n      <th>5211</th>\n      <td>Code-based fitness</td>\n      <td>de.rampro.activitydiary997</td>\n      <td>NaN</td>\n      <td>-0.040488</td>\n      <td>0.717558</td>\n      <td>3.45</td>\n      <td>304.40</td>\n    </tr>\n    <tr>\n      <th>5212</th>\n      <td>Code-based fitness</td>\n      <td>de.rampro.activitydiary998</td>\n      <td>NaN</td>\n      <td>-0.118450</td>\n      <td>0.618189</td>\n      <td>5.50</td>\n      <td>267.10</td>\n    </tr>\n    <tr>\n      <th>5213</th>\n      <td>Code-based fitness</td>\n      <td>de.rampro.activitydiary999</td>\n      <td>NaN</td>\n      <td>0.135823</td>\n      <td>0.049044</td>\n      <td>171.90</td>\n      <td>9.00</td>\n    </tr>\n  </tbody>\n</table>\n<p>5214 rows × 7 columns</p>\n</div>"
     },
     "execution_count": 8,
     "metadata": {},
     "output_type": "execute_result"
    }
   ],
   "source": [
    "frames = [mio_df, autocorrelation_df, information_content_df, neutrality_distance_df, neutrality_volume_df]\n",
    "\n",
    "master_df = reduce(lambda left, right: pd.merge(left, right, on=['Fitness function', 'Objective'], how='outer'), frames)\n",
    "\n",
    "master_df"
   ],
   "metadata": {
    "collapsed": false
   }
  },
  {
   "cell_type": "code",
   "execution_count": 9,
   "outputs": [],
   "source": [
    "master_df.to_csv(\"masterdata.csv\")"
   ],
   "metadata": {
    "collapsed": false
   }
  }
 ],
 "metadata": {
  "kernelspec": {
   "display_name": "Python 3",
   "language": "python",
   "name": "python3"
  },
  "language_info": {
   "codemirror_mode": {
    "name": "ipython",
    "version": 2
   },
   "file_extension": ".py",
   "mimetype": "text/x-python",
   "name": "python",
   "nbconvert_exporter": "python",
   "pygments_lexer": "ipython2",
   "version": "2.7.6"
  }
 },
 "nbformat": 4,
 "nbformat_minor": 0
}
