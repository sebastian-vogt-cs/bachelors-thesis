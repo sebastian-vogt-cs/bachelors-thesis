{
 "cells": [
  {
   "cell_type": "code",
   "execution_count": null,
   "outputs": [],
   "source": [
    "%load_ext autoreload\n",
    "%autoreload 3\n",
    "import modules.data_preparation as data_prep\n",
    "\n",
    "all_walks = data_prep.get_sequences_per_objective_and_fitness_function()"
   ],
   "metadata": {
    "collapsed": false
   }
  },
  {
   "cell_type": "code",
   "execution_count": null,
   "outputs": [],
   "source": [
    "diffs = []\n",
    "\n",
    "n_objectives = len(all_walks.keys())\n",
    "n_done = 0\n",
    "\n",
    "for key1 in list(all_walks.keys()):\n",
    "    print(\"progress: \" + str(n_done/n_objectives))\n",
    "\n",
    "    for key2 in list(all_walks[key1].keys()):\n",
    "        walks = all_walks[key1][key2]\n",
    "        from statistics import mean\n",
    "        import modules.measures as measures\n",
    "        epsilon_star = measures.calculate_epsilon_star_for_information_content(walks[0])\n",
    "        epsilons = [0, epsilon_star / 128, epsilon_star / 64, epsilon_star / 32, epsilon_star / 16, epsilon_star / 8, epsilon_star / 4, epsilon_star / 8, epsilon_star / 4, epsilon_star / 2, epsilon_star]\n",
    "\n",
    "        means = []\n",
    "        for epsilon in epsilons:\n",
    "            ics = []\n",
    "            for walk in walks:\n",
    "                ics.append(measures.information_content_with_epsilon(walk, epsilon))\n",
    "            means.append(mean(ics))\n",
    "\n",
    "        method1 = max(means)\n",
    "\n",
    "        ics = []\n",
    "        for walk in walks:\n",
    "            ics.append(measures.information_content(walk))\n",
    "        method2 = mean(ics)\n",
    "\n",
    "        diffs.append(abs(method2 - method1))\n",
    "\n",
    "    n_done += 1"
   ],
   "metadata": {
    "collapsed": false
   }
  },
  {
   "cell_type": "code",
   "execution_count": null,
   "outputs": [],
   "source": [
    "max(diffs)"
   ],
   "metadata": {
    "collapsed": false
   }
  }
 ],
 "metadata": {
  "kernelspec": {
   "display_name": "Python 3",
   "language": "python",
   "name": "python3"
  },
  "language_info": {
   "codemirror_mode": {
    "name": "ipython",
    "version": 2
   },
   "file_extension": ".py",
   "mimetype": "text/x-python",
   "name": "python",
   "nbconvert_exporter": "python",
   "pygments_lexer": "ipython2",
   "version": "2.7.6"
  }
 },
 "nbformat": 4,
 "nbformat_minor": 0
}
